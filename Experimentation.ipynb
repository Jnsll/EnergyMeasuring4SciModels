{
 "cells": [
  {
   "cell_type": "code",
   "execution_count": 1,
   "id": "ba05ab41-4662-4138-bb48-e9a90926f7fc",
   "metadata": {},
   "outputs": [
    {
     "name": "stdout",
     "output_type": "stream",
     "text": [
      "20 unique projects being selected ( 0.04987531172069826 %).\n"
     ]
    }
   ],
   "source": [
    "from time_study import extract_path_project\n",
    "\n",
    "\n",
    "#extract_path_project.test_f()\n",
    "extract_path_project.create_file_with_subset_entrypoints_from_random_selection(selection_ratio=0.05)"
   ]
  },
  {
   "cell_type": "code",
   "execution_count": 1,
   "id": "4194f99c-2d3b-4dbb-b485-ee452a81433b",
   "metadata": {},
   "outputs": [
    {
     "ename": "ModuleNotFoundError",
     "evalue": "No module named 'tqdm'",
     "output_type": "error",
     "traceback": [
      "\u001b[0;31m---------------------------------------------------------------------------\u001b[0m",
      "\u001b[0;31mModuleNotFoundError\u001b[0m                       Traceback (most recent call last)",
      "Cell \u001b[0;32mIn[1], line 1\u001b[0m\n\u001b[0;32m----> 1\u001b[0m \u001b[38;5;28;01mimport\u001b[39;00m \u001b[38;5;21;01mmeasure\u001b[39;00m\n\u001b[1;32m      3\u001b[0m repetition_number \u001b[38;5;241m=\u001b[39m \u001b[38;5;241m1\u001b[39m\n\u001b[1;32m      4\u001b[0m \u001b[38;5;66;03m#path_current = pathlib.Path().absolute()\u001b[39;00m\n\u001b[1;32m      5\u001b[0m \u001b[38;5;66;03m#print(path_current)\u001b[39;00m\n",
      "File \u001b[0;32m~/Dev/EnergyMeasuring4SciModels/measure.py:7\u001b[0m\n\u001b[1;32m      5\u001b[0m \u001b[38;5;28;01mimport\u001b[39;00m \u001b[38;5;21;01margparse\u001b[39;00m\n\u001b[1;32m      6\u001b[0m \u001b[38;5;28;01mimport\u001b[39;00m \u001b[38;5;21;01mtime\u001b[39;00m\n\u001b[0;32m----> 7\u001b[0m \u001b[38;5;28;01mfrom\u001b[39;00m \u001b[38;5;21;01mtqdm\u001b[39;00m \u001b[38;5;28;01mimport\u001b[39;00m tqdm\n\u001b[1;32m      9\u001b[0m \u001b[38;5;66;03m#### TO DO\u001b[39;00m\n\u001b[1;32m     10\u001b[0m \u001b[38;5;66;03m## Store the list and order of experiments that are run (storing the shuffled list): DONE\u001b[39;00m\n\u001b[1;32m     11\u001b[0m \u001b[38;5;66;03m## Include timestamp + type of experiment (matlab project + repetition number) in the name of the energy measurement output file\u001b[39;00m\n\u001b[0;32m   (...)\u001b[0m\n\u001b[1;32m     16\u001b[0m \n\u001b[1;32m     17\u001b[0m \u001b[38;5;66;03m### Experimental Parameters\u001b[39;00m\n\u001b[1;32m     18\u001b[0m random\u001b[38;5;241m.\u001b[39mseed(\u001b[38;5;241m42\u001b[39m)\n",
      "\u001b[0;31mModuleNotFoundError\u001b[0m: No module named 'tqdm'"
     ]
    }
   ],
   "source": [
    "\n",
    "import measure\n",
    "\n",
    "repetition_number = 1\n",
    "#path_current = pathlib.Path().absolute()\n",
    "#print(path_current)\n",
    "input_file = \"./Projects_Time_Study_no_crashes_sample_demo.csv\"\n",
    "measure.run_experiments_matlab(input_file, repetition_number)"
   ]
  },
  {
   "cell_type": "code",
   "execution_count": null,
   "id": "91eb6bf5-5f6c-4356-abf5-de881e364d70",
   "metadata": {},
   "outputs": [],
   "source": []
  }
 ],
 "metadata": {
  "kernelspec": {
   "display_name": "Python 3 (ipykernel)",
   "language": "python",
   "name": "python3"
  },
  "language_info": {
   "codemirror_mode": {
    "name": "ipython",
    "version": 3
   },
   "file_extension": ".py",
   "mimetype": "text/x-python",
   "name": "python",
   "nbconvert_exporter": "python",
   "pygments_lexer": "ipython3",
   "version": "3.10.10"
  }
 },
 "nbformat": 4,
 "nbformat_minor": 5
}
