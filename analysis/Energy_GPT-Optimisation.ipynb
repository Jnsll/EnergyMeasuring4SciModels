{
 "cells": [
  {
   "cell_type": "code",
   "execution_count": 31,
   "id": "8db4d6cc-b400-4c94-b599-6fc9748fa9bb",
   "metadata": {},
   "outputs": [],
   "source": [
    "# Imports\n",
    "import pandas as pd\n",
    "import os\n",
    "import re"
   ]
  },
  {
   "cell_type": "code",
   "execution_count": 41,
   "id": "374e291c-9b05-44ec-8d86-e9cde83975e5",
   "metadata": {},
   "outputs": [
    {
     "data": {
      "text/plain": [
       "{'UCI_DataSets-monks1D_optimized_gpt4': 3284.7869720456074,\n",
       " 'KPMtools-optimalMatchingTest': 3288.0921630861703,\n",
       " 'KPMtools-optimalMatchingTest_optimized_gpt4': 3432.5236969000543,\n",
       " 'PSO-basic-main_optimized': 3381.9277191169676,\n",
       " 'private-getEnvironment_optimized': 3380.2305145270075,\n",
       " 'fetch_data-fetch_region_proposals_optimized': 7320.889862060547,\n",
       " 'IMA-IMA-main_optimized_gpt4': 4915.01690673799,\n",
       " 'tests-runalltests': 3872.0538330077543,\n",
       " 'private-getEnvironment': 3293.902496338589,\n",
       " 'besa-test_matlab2besa': 3417.658309937513,\n",
       " 'private-getEnvironment_optimized_gpt4': 3399.8738098146277,\n",
       " 'private-generatesessionid_optimized_gpt4': 3208.974639892578,\n",
       " 'adminfunc-biosigpathfirst': 3288.2227630623383,\n",
       " 'IMA-main': 16214.121246336785,\n",
       " 'PSO-basic-main_optimized_gpt4': 3486.1990051270695,\n",
       " 'afni-Test_m3dReorder_optimized_gpt4': 3292.2132110602106,\n",
       " 'emd-demo_emd': 3495.4510345453164,\n",
       " 'UCI_DataSets-monks1D_optimized': 3360.7108612059383,\n",
       " 'UCI_DataSets-monks1D': 3321.185791015101,\n",
       " 'PSO-basic-main': 3477.9516906738863,\n",
       " 'private-generatesessionid_optimized': 3335.58709716826,\n",
       " 'afni-Test_m3dReorder_optimized': 3352.217956542154,\n",
       " 'fetch_data-fetch_region_proposals': 8730.017288207833,\n",
       " 'ex6-getVocabList': 3327.0049743636628,\n",
       " 'CAM-demo': 4598.366592407634,\n",
       " 'private-generatesessionid': 3367.0451507561957,\n",
       " 'fetch_data-fetch_region_proposals_optimized_gpt4': 5669.728744506487,\n",
       " 'afni-Test_m3dReorder': 3196.9576873785118}"
      ]
     },
     "execution_count": 41,
     "metadata": {},
     "output_type": "execute_result"
    }
   ],
   "source": [
    "def get_name_energy_column_name_from_number_core(number_core):\n",
    "    return \"CORE\" + str(number_core) + \"_ENERGY (J)\"\n",
    "\n",
    "TOTAL_NUMBER_CORES = 10\n",
    "TOTAL_NUMBER_REPETITIONS = 30\n",
    "\n",
    "regex = re.compile('energy_metrics_(.*).m_(\\d+).csv')\n",
    "files_output = os.listdir(\"../output/\")\n",
    "energy_files = [k for k in files_output if 'energy_metrics_' in k]\n",
    "energy_consumption_by_script = {}\n",
    "for energy_file in energy_files:\n",
    "    p = re.match(regex, energy_file)\n",
    "    data_raw = pd.read_csv(\"../output/\" + energy_file)\n",
    "    for number_core in range(TOTAL_NUMBER_CORES+1):\n",
    "        start_energy = data_raw[get_name_energy_column_name_from_number_core(number_core)].iloc[0]\n",
    "        end_energy = data_raw[get_name_energy_column_name_from_number_core(number_core)].iloc[-1]\n",
    "        energy_consumption_core = float(end_energy - start_energy)\n",
    "        #print(energy_consumption_core)\n",
    "        #print(\"------\")\n",
    "        if p:\n",
    "            script = p.group(1)\n",
    "            if script in energy_consumption_by_script:\n",
    "                energy_consumption_by_script[script] += energy_consumption_core\n",
    "            else:\n",
    "                energy_consumption_by_script[script] = energy_consumption_core\n",
    "energy_consumption_by_script"
   ]
  },
  {
   "cell_type": "code",
   "execution_count": 43,
   "id": "1ea42a1c-4dc2-47d5-bf35-c6f8aefdf16c",
   "metadata": {},
   "outputs": [],
   "source": [
    "avg_energy_per_script_Dict = {}\n",
    "for k,v in energy_consumption_by_script.items():\n",
    "    avg_energy_per_script_Dict[k] = float(v) / float(TOTAL_NUMBER_REPETITIONS)"
   ]
  },
  {
   "cell_type": "code",
   "execution_count": 44,
   "id": "9f566b5d-814b-4e4f-b6a0-181664dbe368",
   "metadata": {},
   "outputs": [
    {
     "data": {
      "text/plain": [
       "{'UCI_DataSets-monks1D_optimized_gpt4': 109.49289906818692,\n",
       " 'KPMtools-optimalMatchingTest': 109.60307210287235,\n",
       " 'KPMtools-optimalMatchingTest_optimized_gpt4': 114.41745656333515,\n",
       " 'PSO-basic-main_optimized': 112.73092397056558,\n",
       " 'private-getEnvironment_optimized': 112.67435048423359,\n",
       " 'fetch_data-fetch_region_proposals_optimized': 244.0296620686849,\n",
       " 'IMA-IMA-main_optimized_gpt4': 163.83389689126633,\n",
       " 'tests-runalltests': 129.06846110025847,\n",
       " 'private-getEnvironment': 109.79674987795298,\n",
       " 'besa-test_matlab2besa': 113.92194366458376,\n",
       " 'private-getEnvironment_optimized_gpt4': 113.32912699382092,\n",
       " 'private-generatesessionid_optimized_gpt4': 106.9658213297526,\n",
       " 'adminfunc-biosigpathfirst': 109.60742543541127,\n",
       " 'IMA-main': 540.4707082112261,\n",
       " 'PSO-basic-main_optimized_gpt4': 116.20663350423565,\n",
       " 'afni-Test_m3dReorder_optimized_gpt4': 109.74044036867369,\n",
       " 'emd-demo_emd': 116.51503448484388,\n",
       " 'UCI_DataSets-monks1D_optimized': 112.02369537353128,\n",
       " 'UCI_DataSets-monks1D': 110.7061930338367,\n",
       " 'PSO-basic-main': 115.93172302246288,\n",
       " 'private-generatesessionid_optimized': 111.18623657227532,\n",
       " 'afni-Test_m3dReorder_optimized': 111.74059855140513,\n",
       " 'fetch_data-fetch_region_proposals': 291.00057627359445,\n",
       " 'ex6-getVocabList': 110.9001658121221,\n",
       " 'CAM-demo': 153.2788864135878,\n",
       " 'private-generatesessionid': 112.23483835853986,\n",
       " 'fetch_data-fetch_region_proposals_optimized_gpt4': 188.99095815021622,\n",
       " 'afni-Test_m3dReorder': 106.5652562459504}"
      ]
     },
     "execution_count": 44,
     "metadata": {},
     "output_type": "execute_result"
    }
   ],
   "source": [
    "avg_energy_per_script_Dict"
   ]
  },
  {
   "cell_type": "code",
   "execution_count": null,
   "id": "63e046eb-645b-4806-86bd-c7390354afc0",
   "metadata": {},
   "outputs": [],
   "source": []
  }
 ],
 "metadata": {
  "kernelspec": {
   "display_name": "Python 3 (ipykernel)",
   "language": "python",
   "name": "python3"
  },
  "language_info": {
   "codemirror_mode": {
    "name": "ipython",
    "version": 3
   },
   "file_extension": ".py",
   "mimetype": "text/x-python",
   "name": "python",
   "nbconvert_exporter": "python",
   "pygments_lexer": "ipython3",
   "version": "3.10.10"
  }
 },
 "nbformat": 4,
 "nbformat_minor": 5
}
